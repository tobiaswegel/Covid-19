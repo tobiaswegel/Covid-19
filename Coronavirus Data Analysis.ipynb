{
 "cells": [
  {
   "cell_type": "markdown",
   "metadata": {},
   "source": [
    "# Coronavirus COVID-19 - mathematical modelling and crucial data points"
   ]
  },
  {
   "cell_type": "code",
   "execution_count": 1,
   "metadata": {},
   "outputs": [],
   "source": [
    "import CoronaLib as cl\n",
    "import numpy as np\n",
    "import matplotlib.pyplot as plt\n",
    "from mpl_toolkits.mplot3d import axes3d\n",
    "import ipywidgets as widgets\n",
    "from ipywidgets import interact, interactive, fixed, interact_manual\n",
    "from IPython.display import display"
   ]
  },
  {
   "cell_type": "code",
   "execution_count": 2,
   "metadata": {},
   "outputs": [
    {
     "name": "stdout",
     "output_type": "stream",
     "text": [
      "Import successful\n",
      "3.141592653589793\n"
     ]
    }
   ],
   "source": [
    "cl.testfunction()"
   ]
  },
  {
   "cell_type": "markdown",
   "metadata": {},
   "source": [
    "# Theoretical Background\n",
    "\n",
    "## Exponential Growth\n",
    "Viral epidemics are a textbook example of exponential growth. Exponential growth is by definition growth, where over a certain period of time the number of cases is multiplied by a certain factor. This factor does not change over time, which already is a first sign that maybe it's not the most realistic model. Another sign could be that long term the number of cases would grow bigger than the worlds population.\n",
    "\n",
    "In the case of Viruses the number of cases $N$ on a given day $t$ directly depends on the number of cases the day before. For every infected person there is an expected number $E$ of people they interact with and a probability $p$ with which the interaction leads to an infection. Thus the change in number of cases:\n",
    "\\begin{align}\n",
    "\\Delta N(t) = E*p*N(t)\n",
    "\\end{align}\n",
    "Or in other words the number of cases the next day would be:\n",
    "\\begin{align}\n",
    "N(t+1) = \\Delta N(t) + N(t) = E*p*N(t) + N(t) = (1+E*p)*N(t)\n",
    "\\end{align}\n",
    "So the factor with which we multiply daily is $(1+E*p)$. Assuming there is a day \"0\", where $N(t)=N(0)$, this means that the number of cases on any given day is discribed by:\n",
    "\\begin{align}\n",
    "N(t) = (1+E*p)^{t}*N(0)\n",
    "\\end{align}\n",
    "Since any **number** of cases is discrete, we can assume this number is one, meaning that there was a \"first case\", leading to an description:\n",
    "\\begin{align}\n",
    "N(t) = (1+E*p)^{t} = (e^{k})^{t} = e^{k*t}\n",
    "\\end{align}\n",
    "Having this model, we model a **discrete** process **continously**. And we can also differentiate. This means, we can approximate $\\Delta N(t)$ by differentiating $N(t)$:\n",
    "\\begin{align}\n",
    "\\frac{dN(t)}{dt} = k*e^{k*t} = k*N(t)\n",
    "\\end{align}\n",
    "We again see, that the growth rate directly depends on the number of cases themselves. (This is called a differential equation)\n",
    "\n",
    "However, neither the number of people E we interact with on a daily basis, nor the probability p that we infect them, are constant. As a matter of fact, those are the two factors, by which the growth is determined an **we can influence the growth rate!** We can lower the number of people we interact with, by staying at home, travelling less and avoiding neat contact. Also, we can lower the probability of infection by washing our hands etc. That is, why these measures are so important. The effect a little change in those factors can have on the total number of cases is absolutely immense. For example, having $Ep = 0.05, 0.1, 0.15, 0.2$ and the current estimate for $Ep = 0.28$ has tremendous effects on the development over time:"
   ]
  },
  {
   "cell_type": "code",
   "execution_count": 3,
   "metadata": {},
   "outputs": [
    {
     "data": {
      "application/vnd.jupyter.widget-view+json": {
       "model_id": "7ce121bdf12d4096b0b68e5565a8bab8",
       "version_major": 2,
       "version_minor": 0
      },
      "text/plain": [
       "interactive(children=(SelectMultiple(description='k:', index=(0, 1, 2, 3, 4), options=(0.05, 0.1, 0.15, 0.2, 0…"
      ]
     },
     "metadata": {},
     "output_type": "display_data"
    }
   ],
   "source": [
    "growthfactors = widgets.SelectMultiple(options=[0.05, 0.1, 0.15, 0.2, 0.28],value=[0.05, 0.1, 0.15, 0.2, 0.28],description='k:',disabled=False)\n",
    "days_after_zero = widgets.IntSlider(value = 20,min = 0,max = 60,description='days',continuous_update=False) \n",
    "w = interactive(cl.exampleexp, f=growthfactors,afterdays=days_after_zero)\n",
    "display(w)"
   ]
  },
  {
   "cell_type": "markdown",
   "metadata": {},
   "source": [
    "Even after a few days, the total number of infected people differs extremely: One can barely see the chart at 0.05 and 0.1. That is, because in comparison to the factors 0.15 and 0.2 there is just such an immense difference longterm. And the difference between 0.2 and 0.28 is very much achievable through the measures introduced by the WHO and other organizations.\n",
    "\n",
    "## Logistic Growth\n",
    "Another effect that leads to the factor $(1+Ep)$ decreasing is, that after a while the infected people will start interacting with already infected people, decresing the probability that for any interaction a new person gets infected.\n",
    "We can implement this in our model by introducing an factor, that tends towards zero when the proportion of infected people tends towards one:\n",
    "\\begin{align}\n",
    "\\Delta N(t) = (1-\\frac{N(t)}{L})*E*p*N(t)\n",
    "\\end{align}\n",
    "Since our goal is to model this continously, we can describe this fact by a differential equation:\n",
    "\\begin{align}\n",
    "\\frac{dN(t)}{dt} = (1-\\frac{N(t)}{L})*E*p*N(t)\n",
    "\\end{align}\n",
    "where $L$ is the population size **or** the maximum number of cases. Through isolation of individuals or herd immunity these can be two different numbers. Without going into detail on how to solve (partial) differential equations, we can have a look at the solution of this equation, the **logistic growth model**.:\n",
    "\\begin{align}\n",
    "N(t) = \\frac{L}{1+e^{-kt}}\n",
    "\\end{align}\n",
    "$k$ again arising from mathematical manipulation and being in direct dependency of $E$ and $p$. The corresponding curves with the same inital growthfactors $Ep$ but different upper boundaries looks like this:"
   ]
  },
  {
   "cell_type": "code",
   "execution_count": 4,
   "metadata": {},
   "outputs": [
    {
     "data": {
      "application/vnd.jupyter.widget-view+json": {
       "model_id": "3d5cc825c41442b68a9dda5a40aa74f2",
       "version_major": 2,
       "version_minor": 0
      },
      "text/plain": [
       "interactive(children=(SelectMultiple(description='L:', index=(0, 1, 2, 3, 4), options=(83000000, 58000000, 500…"
      ]
     },
     "metadata": {},
     "output_type": "display_data"
    }
   ],
   "source": [
    "growthfactors2 = widgets.SelectMultiple(options=[0.05, 0.1, 0.15, 0.2, 0.28],value=[0.05, 0.1, 0.15, 0.2, 0.28],description='k:',disabled=False)\n",
    "casemax = widgets.SelectMultiple(options=[83000000,58000000 ,50000000, 25000000, 17000000],value=[83000000,58000000 ,50000000, 25000000, 17000000],description='L:',disabled=False)\n",
    "days_after_zero2 = widgets.IntSlider(value = 400,min = 0,max = 600,description='days',continuous_update=False) \n",
    "v = interactive(cl.examplelogistic,L = casemax, k=growthfactors2,howlong=days_after_zero2)\n",
    "display(v)"
   ]
  },
  {
   "cell_type": "markdown",
   "metadata": {},
   "source": [
    "It is important to note, that with slower spread also the maximum number of cases decreases. However, in this scenario the numbers are (for now) made up.  \n",
    "\n",
    "So far, we have looked at the **number of cases $N(t)$**, meaning the number of people who **have** the virus or **had** it and have passed away or recovered. Since recent research shows, that having recovered, one is not infectious anymore and cannot be infected anymore, it does not make sense to still count those people. Thus, me must account for an recoveryrate to see the **number of active cases $A(t)$**. We do this by estimating the average recovery time $r$ and subtracting the number of cases from that many days ago:\n",
    "\\begin{align}\n",
    "A(t) = N(t) - N(t-r) = \\frac{L}{1+e^{-kt}} - \\frac{L}{1+e^{-k(t-r)}}\n",
    "\\end{align}\n",
    "The curve looks something like this:"
   ]
  },
  {
   "cell_type": "code",
   "execution_count": 5,
   "metadata": {},
   "outputs": [
    {
     "data": {
      "application/vnd.jupyter.widget-view+json": {
       "model_id": "ea458e739add45f9b4b00411c59fc3f6",
       "version_major": 2,
       "version_minor": 0
      },
      "text/plain": [
       "interactive(children=(SelectMultiple(description='k:', index=(0, 1, 2, 3, 4), options=(0.05, 0.1, 0.15, 0.2, 0…"
      ]
     },
     "metadata": {},
     "output_type": "display_data"
    }
   ],
   "source": [
    "growthfactors3 = widgets.SelectMultiple(options=[0.05, 0.1, 0.15, 0.2, 0.28],value=[0.05, 0.1, 0.15, 0.2, 0.28],description='k:',disabled=False)\n",
    "L = [83000000,83000000,83000000,83000000,83000000]\n",
    "days_after_zero3 = widgets.IntSlider(value = 300,min = 0,max = 600,description='days',continuous_update=False) \n",
    "recoverytime3 = widgets.IntSlider(value = 14,min = 0,max = 100,description='recoverytime',continuous_update=False)\n",
    "w3 = interactive(cl.examplerecovery,L = widgets.fixed(L), k=growthfactors3,howlong=days_after_zero3,recoverytime = recoverytime3)\n",
    "display(w3)"
   ]
  },
  {
   "cell_type": "markdown",
   "metadata": {},
   "source": [
    "This is the curve, that experts talk about, when saying \"We have to flatten the curve\". We can tell that by having a smaller growthfactor $k$ we do exactly that: we flatten the curve. This is significant, because only the **active cases** are the ones that stress the national health care systems. So, though the number of confirmed cases might not change, the maximal number of active cases at any time can be decreased significantly."
   ]
  },
  {
   "cell_type": "markdown",
   "metadata": {},
   "source": [
    "\n",
    "blue models exponential growth, orange models logistic growth and green models logistic growth considering the recovery of patients.  \n",
    "Note that in the beginning all models behave extremely similarly. That is why often we talk about exponential growth concerning the spread of COVID-19. However, longterm the other models are more sensical."
   ]
  },
  {
   "cell_type": "code",
   "execution_count": 6,
   "metadata": {},
   "outputs": [
    {
     "data": {
      "application/vnd.jupyter.widget-view+json": {
       "model_id": "bbba3c4f214041b09e71c7eb6e7b142d",
       "version_major": 2,
       "version_minor": 0
      },
      "text/plain": [
       "interactive(children=(FloatSlider(value=0.15, continuous_update=False, description='growthrate', max=1.0, min=…"
      ]
     },
     "metadata": {},
     "output_type": "display_data"
    }
   ],
   "source": [
    "growthfactor4 = widgets.FloatSlider(value=0.15,min = 0.01,max=1,step=0.01,description='growthrate',continuous_update=False)\n",
    "casemax4 = widgets.IntSlider(value=83000000,min = 1,max=83000000, description='casemax',continuous_update=False)\n",
    "recoverytime4 = widgets.IntSlider(value = 14,min = 0,max = 200,description='recoverytime',continuous_update=False)\n",
    "days_after_zero4 = widgets.IntSlider(value = 365,min = 0,max = 600,description='days',continuous_update=False)\n",
    "w4 = interactive(cl.examplegrowth,L = casemax4, k=growthfactor4,howlong=days_after_zero4,recoverytime = recoverytime4)\n",
    "display(w4)"
   ]
  },
  {
   "cell_type": "markdown",
   "metadata": {},
   "source": [
    "As long as the percentage of cases compared to the total population is relatively small, the exponential and logistic model are extremely similar. That is why often people say, that the numbers are growing exponentally."
   ]
  },
  {
   "cell_type": "markdown",
   "metadata": {},
   "source": [
    "## Prenotes\n",
    "\n",
    "We will look at the data from the John Hopkins University (https://github.com/CSSEGISandData/COVID-19). The data starts at the 22nd of january 2020. We will consider this date our \"day 0\". The Data can be updated by downloading a new file \"cases.txt\" and \"deaths.txt\". In our model **we do not consider any data from the USA**, because different reporting methods demolish comparability and interpretability. When reading any paper/website produced through this jupyter notebook **check when it was published**, as it will only include data up to that point. The Author does not guarantee correctness, effectiveness, sensibility or any other academic standard. However, he tries his best to give an objective data representation, visualisation and interpretation."
   ]
  },
  {
   "cell_type": "code",
   "execution_count": 7,
   "metadata": {},
   "outputs": [],
   "source": [
    "data = np.genfromtxt('cases.txt', delimiter = ',')"
   ]
  },
  {
   "cell_type": "markdown",
   "metadata": {},
   "source": [
    "# Covid - 19: Exponential Model\n",
    "## Global Case Number (GCN)\n",
    "\n",
    "The global case number is simply the number of confirmed cases per country summed up: The progression looks like this:"
   ]
  },
  {
   "cell_type": "code",
   "execution_count": 8,
   "metadata": {
    "scrolled": true
   },
   "outputs": [
    {
     "data": {
      "application/vnd.jupyter.widget-view+json": {
       "model_id": "6359e028a0aa4e4a9ecdac39adab44ac",
       "version_major": 2,
       "version_minor": 0
      },
      "text/plain": [
       "interactive(children=(IntRangeSlider(value=(0, 68), description='period', max=68), Output()), _dom_classes=('w…"
      ]
     },
     "metadata": {},
     "output_type": "display_data"
    }
   ],
   "source": [
    "period5 = widgets.IntRangeSlider(value=[0,len(data[0])],min=0,max=len(data[0]),description='period',continous_update=True)\n",
    "w5 = interactive(cl.plotglobal,period=period5,data=widgets.fixed(data))\n",
    "display(w5)"
   ]
  },
  {
   "cell_type": "markdown",
   "metadata": {},
   "source": [
    "The jump around the 21 day is caused by changing counting methods and doesnt have anything to do with actual increse in numbers. Zero is the 22nd of January 2020. We will do an exponential regression in order to determine how well the GCN is described through exponential growth:"
   ]
  },
  {
   "cell_type": "code",
   "execution_count": 9,
   "metadata": {},
   "outputs": [
    {
     "data": {
      "application/vnd.jupyter.widget-view+json": {
       "model_id": "4b920d9459584f58a9d1b5ddc822e1f9",
       "version_major": 2,
       "version_minor": 0
      },
      "text/plain": [
       "interactive(children=(IntRangeSlider(value=(0, 68), continuous_update=False, description='period', max=68), Fl…"
      ]
     },
     "metadata": {},
     "output_type": "display_data"
    }
   ],
   "source": [
    "period6 = widgets.IntRangeSlider(value=[0,len(data[0])],min=0,max=len(data[0]),description='period',continuous_update=False)\n",
    "certainty6 = widgets.FloatSlider(value=0.5,min=0,max=1,description='certainty',continuous_update=False)\n",
    "w6 = interactive(cl.expregglobal,period=period6,data=widgets.fixed(data),certainty=certainty6)\n",
    "display(w6)"
   ]
  },
  {
   "cell_type": "markdown",
   "metadata": {},
   "source": [
    "Overall, the GCN does follow an exponential trend. Howeverthere is a \"bump\" around the 21 day, because the global numbers were only china's numbers really at the very beginning. Thus, the exponential looks better, when we start around the 45th day, where the virus spread to most other countries of the world:"
   ]
  },
  {
   "cell_type": "code",
   "execution_count": 10,
   "metadata": {},
   "outputs": [
    {
     "data": {
      "application/vnd.jupyter.widget-view+json": {
       "model_id": "226bc1edea2b4a3eae786a6550ef0493",
       "version_major": 2,
       "version_minor": 0
      },
      "text/plain": [
       "interactive(children=(IntRangeSlider(value=(0, 68), description='period', max=68), Dropdown(description='count…"
      ]
     },
     "metadata": {},
     "output_type": "display_data"
    }
   ],
   "source": [
    "period7 = widgets.IntRangeSlider(value=[0,len(data[0])],min=0,max=len(data[0]),description='period',continuous_update=True)\n",
    "country7 = widgets.Dropdown(value=64,options=[('Hubei, China', 64),('Germany', 122), ('Iran', 135), ('Italy', 139),('Japan', 141),('Spain', 203),('UK', 225),('US', 227)],description='country')\n",
    "w7 = interactive(cl.compare_global_country,period=period7,data=widgets.fixed(data),country_index=country7)\n",
    "display(w7)"
   ]
  },
  {
   "cell_type": "markdown",
   "metadata": {},
   "source": [
    "## Country Case Number (CCN)\n",
    "Chose the country index in reference to the john hopkins unversities data set."
   ]
  },
  {
   "cell_type": "code",
   "execution_count": 11,
   "metadata": {},
   "outputs": [
    {
     "data": {
      "application/vnd.jupyter.widget-view+json": {
       "model_id": "8cc507a611364902a55e8c3f8cc862eb",
       "version_major": 2,
       "version_minor": 0
      },
      "text/plain": [
       "interactive(children=(Dropdown(description='country', index=1, options=(('Hubei, China', 64), ('Germany', 122)…"
      ]
     },
     "metadata": {},
     "output_type": "display_data"
    }
   ],
   "source": [
    "period8 = widgets.IntRangeSlider(value=[0,len(data[0])],min=0,max=len(data[0]),description='period',continuous_update=False)\n",
    "country8 = widgets.Dropdown(value=122,options=[('Hubei, China', 64),('Germany', 122), ('Iran', 135), ('Italy', 139),('Japan', 141),('Spain', 203),('UK', 225),('US', 227)],description='country')\n",
    "w8 = interactive(cl.plotcountry,period=period8,data=widgets.fixed(data),country_index=country8)\n",
    "display(w8)"
   ]
  },
  {
   "cell_type": "markdown",
   "metadata": {},
   "source": [
    "To begin with, we will have a look at all of the data.A Simple linear regression gives us this best fit exponential:"
   ]
  },
  {
   "cell_type": "code",
   "execution_count": 12,
   "metadata": {},
   "outputs": [
    {
     "data": {
      "application/vnd.jupyter.widget-view+json": {
       "model_id": "b0e0c162b42a4a93bf4e9145d3a8db9a",
       "version_major": 2,
       "version_minor": 0
      },
      "text/plain": [
       "interactive(children=(Dropdown(description='country', index=1, options=(('Hubei, China', 64), ('Germany', 122)…"
      ]
     },
     "metadata": {},
     "output_type": "display_data"
    }
   ],
   "source": [
    "period9 = widgets.IntRangeSlider(value=[30,len(data[0])],min=0,max=len(data[0]),description='period',continuous_update=False)\n",
    "country9 = widgets.Dropdown(value=122,options=[('Hubei, China', 64),('Germany', 122), ('Iran', 135), ('Italy', 139),('Japan', 141),('Spain', 203),('UK', 225),('US', 227)],description='country')\n",
    "certainty9 = widgets.FloatSlider(value=0.5,min=0,max=1,description='certainty',continuous_update=False)\n",
    "w9 = interactive(cl.expregcountry,period=period9,data=widgets.fixed(data),country_index=country9,certainty=certainty9)\n",
    "display(w9)"
   ]
  },
  {
   "cell_type": "markdown",
   "metadata": {},
   "source": [
    "The main reason this fit is rather bad for some countries, is, that by including Data from early on (January/early febuary) we have a lot of \"zero\" values. In an exponential modelling, having \"zero\" values makes no sense. This is, because when analyzing discrete data with continous methodologies / models a sort of \"rounding\" effect takes place. So lets see, how our model performs, when we cut earlier data."
   ]
  },
  {
   "cell_type": "markdown",
   "metadata": {},
   "source": [
    "Clearly, our exponential model performs much better, as the average deviation is a lot smaller, in particular in the period, where non-zero values are present.  \n",
    "We learn, that considering data from too early on makes no sense, because we have too many zero values, but also considering data for too long of a period makes no sense, because the exponential model only fits the beginning of an outbreak. So our hypothesis is proven to be right. The exponential model only makes sense for certain periods of an epidemic.   \n",
    "\n",
    "### Actual case numbers (ACN) and prediction\n",
    "\n",
    "There are many factors, why the confirmed case number does not represent the actual number of infected cases. For one, the incubation period is on average six days. And since most people only are tested, when they show the first symptoms, this adds a delay of six days. On average, the test takes about 2 days to be carried out.\n",
    "Another factor is a delay in report of approximately 2 days (in Germany, source: Robert-Koch-Institut). Thus, we have an **average delay of 10 days!**. In terms of exponential growth, this is a huge difference!  \n",
    "Additionally, there are a lot of people who will either not have any symptoms and thus won't be tested or can't be tested, because of the national capacity for testing. Thus, we can expect the number to be even higher. However, we cannot make any serious calculations. \n",
    "So, we can only take some factors into consideration when calculating the **actual case number** today. This number is always the same as our predicted confirmed number in 10 days will be:"
   ]
  },
  {
   "cell_type": "code",
   "execution_count": 13,
   "metadata": {},
   "outputs": [
    {
     "data": {
      "application/vnd.jupyter.widget-view+json": {
       "model_id": "04ca044390324252bc514b40eed7039a",
       "version_major": 2,
       "version_minor": 0
      },
      "text/plain": [
       "interactive(children=(Dropdown(description='country', index=1, options=(('Hubei, China', 64), ('Germany', 122)…"
      ]
     },
     "metadata": {},
     "output_type": "display_data"
    }
   ],
   "source": [
    "period10 = widgets.IntRangeSlider(value=[30,len(data[0])],min=0,max=len(data[0]),description='period',continuous_update=False)\n",
    "country10 = widgets.Dropdown(value=122,options=[('Hubei, China', 64),('Germany', 122), ('Iran', 135), ('Italy', 139),('Japan', 141),('Spain', 203),('UK', 225),('US', 227)],description='country')\n",
    "certainty10 = widgets.FloatSlider(value=0.5,min=0,max=1,description='certainty',continuous_update=False)\n",
    "verzug10 = widgets.IntSlider(value=10,min=0,max=20,description='delay',continuous_update=False)\n",
    "time10 = widgets.IntSlider(value=40,min=0,max=200,description='prediction',continuous_update=False)\n",
    "w10 = interactive(cl.expprogcountry,time=time10,verzug=verzug10,period=period10,data=widgets.fixed(data),country_index=country10,certainty=certainty10)\n",
    "display(w10)"
   ]
  },
  {
   "cell_type": "markdown",
   "metadata": {},
   "source": [
    "This number is a lot bigger that the confirmed case number today. However, we have to be very careful to consider this true. This model is way too simple and there are way too many factors determining the ACN."
   ]
  },
  {
   "cell_type": "markdown",
   "metadata": {},
   "source": [
    "# Covid-19: logistic model\n",
    "## Country Case Number"
   ]
  },
  {
   "cell_type": "code",
   "execution_count": 14,
   "metadata": {},
   "outputs": [
    {
     "data": {
      "application/vnd.jupyter.widget-view+json": {
       "model_id": "330c6c12b9d74ecaa3121020658398d0",
       "version_major": 2,
       "version_minor": 0
      },
      "text/plain": [
       "interactive(children=(Dropdown(description='country', index=1, options=(('Hubei, China', 64), ('Germany', 122)…"
      ]
     },
     "metadata": {},
     "output_type": "display_data"
    }
   ],
   "source": [
    "period11 = widgets.IntRangeSlider(value=[35,len(data[0])],min=0,max=len(data[0]),description='period',continuous_update=False)\n",
    "country11 = widgets.Dropdown(value=122,options=[('Hubei, China', 64),('Germany', 122), ('Iran', 135), ('Italy', 139),('Japan', 141),('Spain', 203),('UK', 225),('US', 227)],description='country')\n",
    "casemaxin11 = widgets.IntSlider(value=1,min=1,max=83000000,continuous_update=False,description='maximum')\n",
    "casemaxfactor11 = widgets.FloatSlider(value=2.0,min=1,max=20,step=0.1,continuous_update=False,description='factor')\n",
    "w11 = interactive(cl.logregcountry,period=period11,data=widgets.fixed(data),country_index=country11,casemaxfactor=casemaxfactor11,casemaxin=casemaxin11)\n",
    "display(w11)"
   ]
  },
  {
   "cell_type": "markdown",
   "metadata": {},
   "source": [
    "# Case Fatality Rate (CFR)\n",
    "\n",
    "The case fatality rate is defined as the proportion of **deaths of confirmed cases** in a country or globally (DCCN or DGCN) to the **confirmed cases**  of a country or globally (CCN or GCN) and thus differes a lot from the infected fatality rate. It is calculated like this and depends exptremely on where and when you are calculating it:  \n",
    "\\begin{align}\n",
    "CFR = \\frac{DCCN}{CCN}\n",
    "\\end{align}\n",
    "or respectively:\n",
    "\\begin{align}\n",
    "CFR = \\frac{DGCN}{GCN}\n",
    "\\end{align}\n",
    "\n",
    "How ever we can also make a more general estimation of the CFR. Assuming the CFR is constant, it makes sense to do a linear regression within the CCN and DCCN (or GCN and DGCN). We get another CFR than when looking at the CFR today: "
   ]
  },
  {
   "cell_type": "code",
   "execution_count": 15,
   "metadata": {},
   "outputs": [],
   "source": [
    "data1 = np.genfromtxt('deaths.txt', delimiter = ',')"
   ]
  },
  {
   "cell_type": "code",
   "execution_count": 16,
   "metadata": {},
   "outputs": [
    {
     "data": {
      "application/vnd.jupyter.widget-view+json": {
       "model_id": "a2caf8a7325545d9ad399dc89c6a83d1",
       "version_major": 2,
       "version_minor": 0
      },
      "text/plain": [
       "interactive(children=(Dropdown(description='country', index=1, options=(('Hubei, China', 64), ('Germany', 122)…"
      ]
     },
     "metadata": {},
     "output_type": "display_data"
    }
   ],
   "source": [
    "period12 = widgets.IntRangeSlider(value=[0,len(data[0])],min=0,max=len(data[0]),description='period',continuous_update=False)\n",
    "country12 = widgets.Dropdown(value=122,options=[('Hubei, China', 64),('Germany', 122), ('Iran', 135), ('Italy', 139),('Japan', 141),('Spain', 203),('UK', 225),('US', 227)],description='country')\n",
    "w12 = interactive(cl.case_death_per_country,period=period12,cases=widgets.fixed(data),country_index=country12,deaths=widgets.fixed(data1))\n",
    "display(w12)"
   ]
  },
  {
   "cell_type": "markdown",
   "metadata": {},
   "source": [
    "Looking at the CFR in terms of CNN also has the advantage of detecting an increase (or decrease), which would indicate a breakdown in the healthcare system, **or** an accumulated effect through delay (It takes time to die). The fact, that different case numbers and different countries have different health care capaities can also be seen in the following comparison of the CFR today for different countries:"
   ]
  },
  {
   "cell_type": "code",
   "execution_count": 17,
   "metadata": {},
   "outputs": [
    {
     "data": {
      "application/vnd.jupyter.widget-view+json": {
       "model_id": "9cb29cb2046c4ceeb449cb99045dd3d9",
       "version_major": 2,
       "version_minor": 0
      },
      "text/plain": [
       "interactive(children=(Dropdown(description='country', index=1, options=(('Hubei, China', 64), ('Germany', 122)…"
      ]
     },
     "metadata": {},
     "output_type": "display_data"
    }
   ],
   "source": [
    "country13 = widgets.Dropdown(value=122,options=[('Hubei, China', 64),('Germany', 122), ('Iran', 135), ('Italy', 139),('Japan', 141),('Spain', 203),('UK', 225),('US', 227)],description='country')\n",
    "w13 = interactive(cl.case_death_globally,cases=widgets.fixed(data),country_index=country13,deaths=widgets.fixed(data1))\n",
    "display(w13)"
   ]
  },
  {
   "cell_type": "markdown",
   "metadata": {},
   "source": [
    "This is also the reason, why the whole world is looking at italy in those difficult times."
   ]
  },
  {
   "cell_type": "code",
   "execution_count": 18,
   "metadata": {},
   "outputs": [
    {
     "name": "stdout",
     "output_type": "stream",
     "text": [
      "[]\n"
     ]
    },
    {
     "data": {
      "image/png": "[encoded data removed]",
      "text/plain": [
       "<Figure size 432x288 with 1 Axes>"
      ]
     },
     "metadata": {
      "needs_background": "light"
     },
     "output_type": "display_data"
    }
   ],
   "source": [
    "#%matplotlib notebook\n",
    "from mpl_toolkits.mplot3d import axes3d\n",
    "country_list = [122,227, 139, 203,141,64,225,135]\n",
    "cl.threeD_case_death_time(country_list, data, data1)"
   ]
  },
  {
   "cell_type": "code",
   "execution_count": null,
   "metadata": {},
   "outputs": [],
   "source": []
  }
 ],
 "metadata": {
  "kernelspec": {
   "display_name": "Python 3",
   "language": "python",
   "name": "python3"
  },
  "language_info": {
   "codemirror_mode": {
    "name": "ipython",
    "version": 3
   },
   "file_extension": ".py",
   "mimetype": "text/x-python",
   "name": "python",
   "nbconvert_exporter": "python",
   "pygments_lexer": "ipython3",
   "version": "3.7.3"
  }
 },
 "nbformat": 4,
 "nbformat_minor": 2
}
